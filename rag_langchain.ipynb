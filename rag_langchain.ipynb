{
 "cells": [
  {
   "cell_type": "code",
   "execution_count": 22,
   "metadata": {},
   "outputs": [
    {
     "data": {
      "text/plain": [
       "True"
      ]
     },
     "execution_count": 22,
     "metadata": {},
     "output_type": "execute_result"
    }
   ],
   "source": [
    "import os\n",
    "import dotenv\n",
    "from pathlib import Path\n",
    "\n",
    "from langchain_core.messages import AIMessage, HumanMessage\n",
    "from langchain_community.document_loaders.text import TextLoader\n",
    "from langchain_community.document_loaders import (\n",
    "    WebBaseLoader,\n",
    "    PyPDFLoader,\n",
    "    Docx2txtLoader,\n",
    ")\n",
    "from langchain_community.vectorstores import Chroma\n",
    "from langchain.text_splitter import RecursiveCharacterTextSplitter\n",
    "from langchain_openai import OpenAIEmbeddings, ChatOpenAI\n",
    "from langchain_anthropic import ChatAnthropic\n",
    "from langchain_core.prompts import ChatPromptTemplate, MessagesPlaceholder\n",
    "from langchain.chains import create_history_aware_retriever, create_retrieval_chain\n",
    "from langchain.chains.combine_documents import create_stuff_documents_chain\n",
    "\n",
    "dotenv.load_dotenv()"
   ]
  },
  {
   "cell_type": "code",
   "execution_count": 23,
   "metadata": {},
   "outputs": [],
   "source": [
    "# load docs\n",
    "\n",
    "doc_paths = [\n",
    "    \"docs/testdoc.pdf\"\n",
    "]\n",
    "\n",
    "docs = []\n",
    "for doc_file in doc_paths:\n",
    "    file_path = Path(doc_file)\n",
    "\n",
    "# assigning different types of file extensions to correct loader\n",
    "\n",
    "    try:\n",
    "        if doc_file.endswith(\".pdf\"):\n",
    "            loader = PyPDFLoader(file_path)\n",
    "        elif doc_file.endswith(\".docx\"):\n",
    "            loader = Docx2txtLoader(file_path)\n",
    "        elif doc_file.endswith(\".txt\") or doc_file.endswith(\".md\"):\n",
    "            loader = TextLoader(file_path)\n",
    "        else:\n",
    "            print(f\"Document type {doc_file.type} not supported.\")\n",
    "            continue\n",
    "\n",
    "        docs.extend(loader.load())\n",
    "    \n",
    "    except Exception as e:\n",
    "        print(f\"Error loading document {doc_file.name}: {e}\")\n",
    "\n",
    "    \n",
    "# load URLs\n",
    "\n",
    "url = \"https://minecraft.fandom.com/wiki/Minecraft_Wiki\"\n",
    "\n",
    "try:\n",
    "    loader = WebBaseLoader(url)\n",
    "    docs.extend(loader.load())\n",
    "\n",
    "except Exception as e:\n",
    "    print(f\"Error loading document from {url}: {e}\")"
   ]
  },
  {
   "cell_type": "code",
   "execution_count": 25,
   "metadata": {},
   "outputs": [
    {
     "data": {
      "text/plain": [
       "[Document(metadata={'producer': 'Skia/PDF m140 Google Docs Renderer', 'creator': 'PyPDF', 'creationdate': '', 'title': 'testdoc', 'source': 'docs/testdoc.pdf', 'total_pages': 1, 'page': 0, 'page_label': '1'}, page_content='1.  Adi  likes  to  eat  chicken  nuggets,  frozen  pizzas,  and  mayonnaise  2.  The  plane  has  177  passengers'),\n",
       " Document(metadata={'source': 'https://minecraft.fandom.com/wiki/Minecraft_Wiki', 'title': 'Minecraft Wiki – The Ultimate Resource for Minecraft', 'language': 'en'}, page_content='\\n\\n\\n\\nMinecraft Wiki – The Ultimate Resource for Minecraft\\n\\n\\n\\n\\n\\n\\n\\n\\n\\n\\n\\n\\n\\n\\n\\n\\n\\n\\n\\n\\n\\n\\n\\n\\n\\n\\n\\n\\n\\n\\n\\n\\n\\n\\n\\n\\n\\n\\n\\n\\n\\n\\n\\n\\n\\n\\n\\n\\n\\n\\n\\n\\n\\n\\n\\n\\n\\n\\n\\n\\n\\n\\n\\n\\n\\n\\n\\n\\n\\n\\n\\t\\tSign In\\t\\n\\n\\n\\n\\t\\tRegister\\t\\n\\n\\n\\n\\n\\n\\n \\n\\n\\n\\n\\n\\n\\tMinecraft Wiki\\n\\n\\n\\n\\n\\n Explore\\n\\n \\n\\n\\n\\n\\n Main Page\\n\\n\\n\\n\\nAll Pages\\n\\n\\n\\n\\nInteractive Maps\\n\\n\\n\\n\\n\\n\\n\\n\\nGames\\n\\n \\n\\n\\n\\n\\nMinecraft\\n\\n\\n\\n\\nMinecraft Dungeons\\n\\n\\n\\n\\nMinecraft Legends\\n\\n\\n\\n\\nMinecraft Earth\\n\\n\\n\\n\\nMinecraft Story Mode\\n\\n\\n\\n\\n\\n\\n\\n\\nMinecraft\\n\\n \\n\\n\\n\\n\\nBlocks\\n\\n\\n\\n\\nItems\\n\\n\\n\\n\\nWorld\\n \\n\\n\\n\\n\\nMobs\\n\\n\\n\\n\\nBiomes\\n\\n\\n\\n\\nTerrain features\\n\\n\\n\\n\\nStructures\\n\\n\\n\\n\\nDimensions\\n\\n\\n\\n\\n\\n\\n\\nMechanics\\n \\n\\n\\n\\n\\nCrafting\\n\\n\\n\\n\\nSmelting\\n\\n\\n\\n\\nBrewing\\n\\n\\n\\n\\nTrading\\n\\n\\n\\n\\nEnchanting\\n\\n\\n\\n\\nStatus effects\\n\\n\\n\\n\\n\\n\\n\\nVersion history\\n \\n\\n\\n\\n\\nJava Edition\\n\\n\\n\\n\\nBedrock Edition\\n\\n\\n\\n\\nOther editions\\n \\n\\n\\n\\n\\nLegacy Console Edition\\n\\n\\n\\n\\n\\n\\n\\nSimplified guides\\n \\n\\n\\n\\n\\nJava Edition\\n\\n\\n\\n\\nBedrock Edition\\n\\n\\n\\n\\n\\n\\n\\n\\n\\n\\nTechnical\\n \\n\\n\\n\\n\\nRedstone circuits\\n\\n\\n\\n\\nCommands\\n\\n\\n\\n\\nResource packs\\n\\n\\n\\n\\nData packs\\n\\n\\n\\n\\nAdd-ons\\n\\n\\n\\n\\nServers\\n \\n\\n\\n\\n\\nRealms\\n\\n\\n\\n\\nRealms Plus\\n\\n\\n\\n\\nBedrock Dedicated Server\\n\\n\\n\\n\\nBedrock featured servers\\n\\n\\n\\n\\n\\n\\n\\n\\n\\n\\nTutorials\\n\\n\\n\\n\\n\\n\\n\\n\\nMinecraft Dungeons\\n\\n \\n\\n\\n\\n\\nItems\\n \\n\\n\\n\\n\\nWeapons\\n\\n\\n\\n\\nArmor\\n\\n\\n\\n\\nArtifacts\\n\\n\\n\\n\\nConsumables\\n\\n\\n\\n\\nCosmetics\\n\\n\\n\\n\\n\\n\\n\\nLocations\\n \\n\\n\\n\\n\\nAncient Hunts\\n\\n\\n\\n\\n\\n\\n\\nMechanics\\n \\n\\n\\n\\n\\nEnchanting\\n\\n\\n\\n\\nStatus effects\\n\\n\\n\\n\\nAchievements\\n\\n\\n\\n\\n\\n\\n\\nMobs\\n\\n\\n\\n\\nArcade\\n\\n\\n\\n\\nTutorials\\n\\n\\n\\n\\n\\n\\n\\n\\nWiki Community\\n\\n \\n\\n\\n\\n\\nRules and guidelines\\n \\n\\n\\n\\n\\nWiki rules\\n\\n\\n\\n\\nVideo policy\\n\\n\\n\\n\\nTalk page guidelines\\n\\n\\n\\n\\nStyle guide\\n\\n\\n\\n\\n\\n\\n\\nWiki tools\\n \\n\\n\\n\\n\\nRecent changes\\n\\n\\n\\n\\nEditing sandbox\\n\\n\\n\\n\\n\\n\\n\\nAbout the wiki\\n\\n\\n\\n\\nCommunity portal\\n\\n\\n\\n\\nAdmin noticeboard\\n\\n\\n\\n\\nProjects\\n\\n\\n\\n\\nDiscord\\n\\n\\n\\n\\n\\n\\n\\n\\n\\n\\n \\n\\n\\n\\n\\n\\n\\t\\t\\t\\tSign In\\t\\t\\t\\n\\n\\n\\n\\t\\t\\t\\tDon\\'t have an account?\\t\\t\\t\\n\\n\\t\\t\\t\\tRegister\\t\\t\\t\\n\\n\\n\\t\\t\\t\\tSign In\\t\\t\\t\\n\\n\\n\\n\\n\\n\\n\\n\\n\\n\\n\\n \\nMenu\\n\\n\\n\\n \\n\\n\\n\\n\\n\\n\\n\\n\\nExplore\\n\\n\\n\\n\\n\\n\\n\\n\\n\\n \\nMore\\n\\n\\n\\n \\nHistory\\n\\n\\n\\n\\n\\n\\n\\n\\n\\n\\n\\n\\n\\n\\t\\t\\t\\t\\tAdvertisement\\t\\t\\t\\t\\n\\n\\n\\n\\nSkip to content\\n\\n\\n\\n\\n\\n\\n\\n\\n\\t\\t\\t\\t\\tMinecraft Wiki\\t\\t\\t\\t\\n\\n\\n\\n\\n\\n\\n\\n\\n7,508pages \\n\\n\\n \\n\\n\\n\\n\\n\\n\\n\\n Explore\\n\\n \\n\\n\\n\\n\\n Main Page\\n\\n\\n\\n\\nAll Pages\\n\\n\\n\\n\\nInteractive Maps\\n\\n\\n\\n\\n\\n\\n\\n\\nGames\\n\\n \\n\\n\\n\\n\\nMinecraft\\n\\n\\n\\n\\nMinecraft Dungeons\\n\\n\\n\\n\\nMinecraft Legends\\n\\n\\n\\n\\nMinecraft Earth\\n\\n\\n\\n\\nMinecraft Story Mode\\n\\n\\n\\n\\n\\n\\n\\n\\nMinecraft\\n\\n \\n\\n\\n\\n\\nBlocks\\n\\n\\n\\n\\nItems\\n\\n\\n\\n\\nWorld\\n \\n\\n\\n\\n\\nMobs\\n\\n\\n\\n\\nBiomes\\n\\n\\n\\n\\nTerrain features\\n\\n\\n\\n\\nStructures\\n\\n\\n\\n\\nDimensions\\n\\n\\n\\n\\n\\n\\n\\nMechanics\\n \\n\\n\\n\\n\\nCrafting\\n\\n\\n\\n\\nSmelting\\n\\n\\n\\n\\nBrewing\\n\\n\\n\\n\\nTrading\\n\\n\\n\\n\\nEnchanting\\n\\n\\n\\n\\nStatus effects\\n\\n\\n\\n\\n\\n\\n\\nVersion history\\n \\n\\n\\n\\n\\nJava Edition\\n\\n\\n\\n\\nBedrock Edition\\n\\n\\n\\n\\nOther editions\\n \\n\\n\\n\\n\\nLegacy Console Edition\\n\\n\\n\\n\\n\\n\\n\\nSimplified guides\\n \\n\\n\\n\\n\\nJava Edition\\n\\n\\n\\n\\nBedrock Edition\\n\\n\\n\\n\\n\\n\\n\\n\\n\\n\\nTechnical\\n \\n\\n\\n\\n\\nRedstone circuits\\n\\n\\n\\n\\nCommands\\n\\n\\n\\n\\nResource packs\\n\\n\\n\\n\\nData packs\\n\\n\\n\\n\\nAdd-ons\\n\\n\\n\\n\\nServers\\n \\n\\n\\n\\n\\nRealms\\n\\n\\n\\n\\nRealms Plus\\n\\n\\n\\n\\nBedrock Dedicated Server\\n\\n\\n\\n\\nBedrock featured servers\\n\\n\\n\\n\\n\\n\\n\\n\\n\\n\\nTutorials\\n\\n\\n\\n\\n\\n\\n\\n\\nMinecraft Dungeons\\n\\n \\n\\n\\n\\n\\nItems\\n \\n\\n\\n\\n\\nWeapons\\n\\n\\n\\n\\nArmor\\n\\n\\n\\n\\nArtifacts\\n\\n\\n\\n\\nConsumables\\n\\n\\n\\n\\nCosmetics\\n\\n\\n\\n\\n\\n\\n\\nLocations\\n \\n\\n\\n\\n\\nAncient Hunts\\n\\n\\n\\n\\n\\n\\n\\nMechanics\\n \\n\\n\\n\\n\\nEnchanting\\n\\n\\n\\n\\nStatus effects\\n\\n\\n\\n\\nAchievements\\n\\n\\n\\n\\n\\n\\n\\nMobs\\n\\n\\n\\n\\nArcade\\n\\n\\n\\n\\nTutorials\\n\\n\\n\\n\\n\\n\\n\\n\\nWiki Community\\n\\n \\n\\n\\n\\n\\nRules and guidelines\\n \\n\\n\\n\\n\\nWiki rules\\n\\n\\n\\n\\nVideo policy\\n\\n\\n\\n\\nTalk page guidelines\\n\\n\\n\\n\\nStyle guide\\n\\n\\n\\n\\n\\n\\n\\nWiki tools\\n \\n\\n\\n\\n\\nRecent changes\\n\\n\\n\\n\\nEditing sandbox\\n\\n\\n\\n\\n\\n\\n\\nAbout the wiki\\n\\n\\n\\n\\nCommunity portal\\n\\n\\n\\n\\nAdmin noticeboard\\n\\n\\n\\n\\nProjects\\n\\n\\n\\n\\nDiscord\\n\\n\\n\\n\\n\\n\\n\\n\\n\\n\\n\\n\\n\\n\\n \\n\\n \\n\\n\\n\\n\\n\\n\\n\\n\\n\\n\\t\\t\\tEnglish \\n\\n\\n\\nČeština\\n\\n\\nDeutsch\\n\\n\\nΕλληνικά\\n\\n\\nEspañol\\n\\n\\nفارسی\\n\\n\\nFrançais\\n\\n\\nMagyar\\n\\n\\nBahasa Indonesia\\n\\n\\nItaliano\\n\\n\\n日本語\\n\\n\\n한국어\\n\\n\\n文言\\n\\n\\nNederlands\\n\\n\\nPolski\\n\\n\\nPortuguês\\n\\n\\nРусский\\n\\n\\nไทย\\n\\n\\nTürkçe\\n\\n\\nУкраїнська\\n\\n\\n中文\\n\\n\\n\\n\\n\\n\\n\\n\\n\\n\\t\\t\\t\\t\\tHome\\t\\t\\t\\t\\n\\n\\n\\n\\t\\t\\t\\t\\t\\tView source\\t\\t\\t\\t\\t\\n\\n\\n \\n\\n\\n\\n\\n\\t\\t\\t\\t\\t\\t\\t\\t\\t\\t\\tHistory\\t\\t\\t\\t\\t\\t\\t\\t\\t\\t\\n\\n\\n\\n\\t\\t\\t\\t\\t\\t\\t\\t\\t\\t\\tPurge\\t\\t\\t\\t\\t\\t\\t\\t\\t\\t\\n\\n\\n\\n\\t\\t\\t\\t\\t\\t\\t\\t\\t\\t\\tTalk (2,857)\\t\\t\\t\\t\\t\\t\\t\\t\\t\\t\\n\\n\\n\\n\\n\\n\\n\\n\\n\\n\\n\\n\\n\\n\\n\\n\\nCommunity portal\\nAdmin noticeboard\\nWiki rules\\nRecent changes\\nHelp contents\\nHow to help\\nMissing pages\\nStyle guide\\nGeneral disclaimer\\n\\n\\nWelcome to the ultimate source on information about the Minecraft franchise.This wiki and its many pages and files for all Minecraft-related games are managed and maintained by 250 active users from the Minecraft community. Anyone can contribute!\\n\\n\\n\\n\\n\\n Games\\n\\nCurrent games\\n\\nMinecraft is a 3D sandbox game developed by Mojang Studios where players interact with a fully modifiable three-dimensional environment made of blocks and entities. Its diverse gameplay lets players choose the way they play, allowing for countless possibilities.There are four actively maintained editions of Minecraft: Java Edition, Bedrock Edition, Minecraft Education and China Edition.\\n\\n\\n\\nMinecraft Dungeons is an action-adventure role-playing game where up to four players can travel through procedurally generated levels, fight monsters, and face off against the main antagonist of the story, the Arch-Illager.\\nMinecraft Dungeons Arcade is an arcade adaptation of Minecraft Dungeons, which requires four players to play through levels and defeat large groups of mobs. Players can get equipment, skins, and pets by scanning collectible cards.\\n\\n\\n\\n\\n\\nMinecraft Legends is a  real-time action strategy game where the player must defend the Overworld from the piglins.\\n\\n\\nDiscontinued games\\n\\nMinecraft: Story Mode was an episodic point-and-click narrative-driven graphic adventure game based on Minecraft, made by Telltale Games where players had to complete chapters in order to progress, and their choices and actions had effects on the story.\\nMinecraft: Story Mode - Season Two was the sequel to Minecraft: Story Mode and had a new story continuing the adventures of the original game, with elements from newer versions of Minecraft.\\n\\n\\n\\n\\nMinecraft Earth was a free-to-play augmented reality spin-off mobile game where players travel to real-life locations to build structures and collect resources. It featured many unique gameplay aspects and interactions similar to the main game. The game became discontinued on June 30, 2021.\\n\\n\\n\\n\\n Community\\n\\nIf you see this, your JavaScript might be disabled or DiscordIntegrator plugin isn\\'t working. If the latter, please contact a wiki administrator.\\n\\nDid you know…\\n... that MC-4 is the oldest bug report that is still standing?\\n... that the original iron sword texture was taken from Notch\\'s abandoned game Legend of the Chambered?\\n... that wool in Classic had a different color pallette?\\n... that before rotten flesh was added, zombies used to drop feathers?\\n... that lush caves is the only cave biome that can generate beneath oceans?\\n... that the carved pumpkin used to build a snow golem can be retrieved by using shears on the golem?\\n... that honey bottles can be used to cure Poison?\\n... that besides bamboo, pandas also eat cakes?\\n\\n\\n\\n Play it!\\n\\n\\n\\n\\nJava Edition\\n\\n Latest version\\n\\n1.21.7(Buy\\xa0|\\xa0Trial)\\n\\n\\n\\nBedrock Edition\\n\\n Latest versions\\n\\n1.21.90(Buy\\xa0|\\xa0Trial)\\n1.21.90(Buy)\\n1.21.90(Buy)\\n1.21.90(Buy\\xa0|\\xa0Trial)\\n1.21.90(Buy)\\n1.21.90(Buy)\\n1.21.90(Buy)\\n1.21.90(Buy\\xa0|\\xa0Trial)\\n\\n\\n Bedrock Dedicated Server & Realms Plus\\n\\n1.21.90(Download)\\n1.21.90\\n\\n\\n Development versions\\n\\n\\' Preview 1.21.100.20(Download)\\n\\' Preview 1.21.100.20(Join)\\n\\' Preview 1.21.100.20(Join)\\n\\' beta 1.21.100.20(Join)\\n\\' Preview 1.21.100.20(Download)\\n1.21.90.28(Download)\\n\\n\\n\\n\\n\\nMinecraft Dungeons\\n\\n Latest versions\\n\\n1.17.0.0(Buy)\\n1.17.0.0(Buy)\\n1.17.0.0(Buy)\\n1.17.0.0(Info)\\n1.17.0.0(Buy)\\n1.17.0.0(Buy)\\n\\n\\n\\nMinecraft Legends\\n\\n Latest versions\\n\\n1.18.19068.0(Buy)\\n12895632(Buy)\\n1.18.19068.0(Buy)\\n1.18.19068.0(Info)\\n1.18.19068(Buy)\\n1.13(Buy)\\n\\n\\n\\nMinecraft Launcher\\n\\n Latest versions\\n\\n3.13.19(Download)\\n3.13.19(Download)\\n3.13.19(Download)\\n\\n\\n\\n\\n\\nMinecraft Education\\n\\n Latest versions\\n\\n1.21.10(Buy\\xa0|\\xa0Download)\\n1.21.10(Buy\\xa0|\\xa0Download)\\n1.21.10(Buy\\xa0|\\xa0Download)\\n1.21.10(Buy\\xa0|\\xa0Download)\\n1.21.10(Buy\\xa0|\\xa0Download)\\n\\n\\n Classroom Mode & Code Connection\\n\\n1.81(Download)\\n1.50(Download)\\n\\n\\n\\nChina Edition\\n\\n Latest versions\\n\\n1.14.25.42732(Download)\\n3.2.31.266178(Download)\\n3.2.31.266178(mc.163.com\\xa0|\\xa0TapTap)\\n\\n\\n\\n\\n\\n\\n\\n\\n Gameplay\\n\\nMinecraft\\nGame modes\\nSurvival\\nHardcore\\nCreative\\nAdventure\\nSpectator\\nDemo\\nRecipes\\nCrafting\\nSmelting\\nBrewing\\nCutting\\nUpgrading\\nMechanics\\nEnchanting mechanics\\nRedstone circuits\\nTrading\\nAnvil mechanics\\nArchaeology\\nTutorials\\nNew player\\nGeneral\\nItem farming\\nMob farming\\nEnchanting and smelting\\nMechanism\\nTechnical\\n\\nMinecraft Dungeons\\nGameplay\\nStory\\nDifficulties\\nHeroes\\nMelee Weapons\\nRanged Weapons\\nArmor\\nArtifacts\\nConsumables\\nMechanics\\nRarity\\nLevels\\nSouls\\nMerchants\\nDaily Trials\\nAncient Hunts\\nTutorials\\nBeginner\\'s guide\\nFarming\\nLevel guide\\n\\n\\n\\n Popular and useful pages\\n\\nMinecraft\\nAchievements/Advancements\\nVarious challenges and goals that the player can complete.\\nBlocks\\nDetailed information on the various blocks that make up the world.\\nItems\\nDetailed information on the various items that the player can collect and use.\\nBiomes\\nDifferent regions in a world with varying geographical features.\\nEnchanting\\nTools and weapons can be enchanted to improve the item\\'s abilities.\\nEffects\\nInformation about various effects that can be applied to mobs.\\nMobs\\nInformation about the various friendly and non-friendly creatures found in-game.\\nResource packs\\nA user-created system that alters the look and feel of the game.\\nAdd-ons\\nVarious user-created modifications that can alter gameplay.\\nTutorials\\nDifferent user-created guides on various aspects of gameplay.\\n\\nMinecraft Dungeons\\nAchievements\\nVarious challenges and goals that the player can complete.\\nItems\\nDetailed information on the various items that the player can collect and use.\\nLocations\\nInformation about locations in general.\\nEnchanting\\nTools and weapons can be enchanted to improve the item\\'s abilities\\nStatus effects\\nInformation about various effects that can be applied to mobs.\\nMobs\\nInformation about the various friendly and non-friendly creatures found in-game.\\nTutorials\\nDifferent user-created guides on various aspects of gameplay.\\n\\n\\n\\n News and events\\n\\n2025-08\\n04\\n\\n\\nLatest news\\n\\nJuly 18, 2023\\nMinecraft: Zombies Return! released.\\nApril 18, 2023\\nMinecraft Legends released.\\nApril 5, 2023\\nMinecraft: The Movie is now reported to be released on April 4, 2025.\\nMarch 7, 2023\\nMinecraft Legends: Return of the Piglins released.\\nMarch 4, 2023\\nMinecraft wins \"Favorite Video Game\" at the 2023 Kids\\' Choice Awards.\\nJanuary 31, 2023\\nMinecraft is nominated for \"Favorite Video Game\" at the 2023 Kids\\' Choice Awards.\\n\\nRecent updates\\n\\nSeptember 21, 2023\\nJava Edition 1.20.2 released.\\nSeptember 19, 2023\\nBedrock Edition 1.20.30 released.\\nAugust 31, 2023\\nMinecraft Legends 1.17.53059 released.\\nAugust 16-18, 2023\\nBedrock Edition 1.20.15 released.\\nAugust 16, 2023\\nMinecraft Legends 1.17.49848 released.\\nAugust 8, 2023\\nBedrock Edition 1.20.14 released on PlayStation 4, and Minecraft Education 1.20.12 released.\\n\\n\\n\\n Links\\n\\nOfficial links\\n\\nMinecraft Linktree\\nMinecraft Official Site\\nMinecraft\\nDungeons\\nLegends\\nEducation\\nClassic\\nSite map\\nMinecraft Shop\\nMinecraft Help Center\\nMojang Bug Tracker\\nMinecraft Feedback\\nMinecraft Facebook\\nEducation\\nFestival\\nMinecraft Instagram\\nMinecraft Twitter\\nDungeons\\nLegends\\nEducation\\nMarketplace\\nFestival\\nMojang Studios Twitter\\nEmployees list\\nMinecraft YouTube\\nLivestream\\nEducation\\nMinecraft TikTok\\nMinecraft Twitch\\nMinecraft Discord\\nDungeons\\nLegends\\nLive\\n\\nWiki links\\nMinecraft Servers Wiki\\nFeed The Beast Wiki (modded Minecraft)\\nBritish English version\\nReddit communities\\nr/Minecraft – General\\nr/MinecraftUnlimited – General\\nr/MCPE – Bedrock Edition\\nr/MinecraftDungeons – Minecraft Dungeons\\nr/MinecraftLegends – Minecraft Legends\\nr/minecraftsuggestions – Game suggestions\\nr/realms – Minecraft Realms\\nr/Mojira – Mojang Bug Tracker (Mojira)\\n\\n\\n\\n Servers and development\\n\\nServers\\nDocumentation on starting and maintaining a server in Java Edition.\\nBedrock Dedicated Servers\\nDocumentation on starting and maintaining a server in Bedrock Edition.\\nFeatured servers\\nDocumentation and information about Bedrock Edition featured servers, along with a list of them.\\nMinecraft Realms\\nInformation about paid Mojang Studios-hosted servers, known as Realms.\\nMinecraft Realms Plus\\nInformation about paid Mojang Studios-hosted servers in Bedrock Edition, known as Realms Plus.\\nMojang Bug Tracker (Mojira)\\nSubmit and track bug reports and fixes to Minecraft.\\nMinecraft Feedback site\\nSubmit feedback or suggest changes to Minecraft.\\nDevelopment resources\\nDocumentation and information to develop applications to work with Minecraft.\\nPrograms and editors\\nA list containing several third-party programs that are designed to work with Minecraft.\\n\\n\\n\\n Version development\\n\\nVersion history\\nJava Edition\\nFull Release\\nDevelopment versions\\nBeta\\nAlpha\\nInfdev\\nIndev\\nClassic\\nPre-classic\\nBedrock Edition\\nFull Release\\nDevelopment versions\\nAlpha\\nMinecraft Education\\nChina Edition\\nMinecraft Classic\\nMinecraft Dungeons\\nMinecraft Legends\\n\\nPlanned versions\\nJava Edition\\nCombat Tests\\nBedrock Edition\\n1.20.40\\n\\nMentioned features\\nJava Edition\\nBedrock Edition\\n\\n\\nChanges for the main page can be proposed here.\\n\\n\\n\\n \\n\\n\\n\\n\\t\\t\\tCategories\\t\\t\\t \\n\\n\\n\\n\\nCategories: \\n\\nMinecraft Wiki\\n\\n\\n\\n\\n\\n\\n\\n\\n\\n\\t\\t\\tLanguages\\t\\t\\t \\n\\nČeština\\nDeutsch\\nΕλληνικά\\nEspañol\\nفارسی\\nFrançais\\nMagyar\\nBahasa Indonesia\\nItaliano\\n日本語\\n한국어\\n文言\\nNederlands\\nPolski\\nPortuguês\\nРусский\\nไทย\\nTürkçe\\nУкраїнська\\n中文\\n\\n\\n\\n\\t\\tCommunity content is available under CC BY-NC-SA unless otherwise noted.\\t\\n\\n\\n\\n\\t\\tMore Fandoms\\n\\t\\n\\n\\nFantasy\\nMinecraft\\n\\n\\n\\n\\n\\n\\n\\n\\n\\n\\n\\t\\t\\t\\tAdvertisement\\t\\t\\t\\n\\n\\n\\n\\n\\n\\n\\n\\n\\n\\n\\nExplore properties\\n\\n\\n\\n\\t\\t\\t\\t\\t\\t\\t\\t\\t\\t\\t\\t\\t\\t\\t\\t\\tFandom\\t\\t\\t\\t\\t\\t\\t\\t\\t\\t\\t\\t\\t\\t\\t\\n\\n\\n\\n\\t\\t\\t\\t\\t\\t\\t\\t\\t\\t\\t\\t\\t\\t\\t\\t\\tMuthead\\t\\t\\t\\t\\t\\t\\t\\t\\t\\t\\t\\t\\t\\t\\t\\n\\n\\n\\n\\t\\t\\t\\t\\t\\t\\t\\t\\t\\t\\t\\t\\t\\t\\t\\t\\tFanatical\\t\\t\\t\\t\\t\\t\\t\\t\\t\\t\\t\\t\\t\\t\\t\\n\\n\\n\\n\\nFollow Us\\n\\n\\n\\n \\n\\n\\n\\n \\n\\n\\n\\n \\n\\n\\n\\n \\n\\n\\n\\n \\n\\n\\n\\n\\n\\n\\nOverview\\n\\n\\n\\n\\t\\t\\t\\t\\t\\t\\t\\t\\t\\t\\t\\t\\t\\t\\t\\t\\tWhat is Fandom?\\t\\t\\t\\t\\t\\t\\t\\t\\t\\t\\t\\t\\t\\t\\t\\n\\n\\n\\n\\t\\t\\t\\t\\t\\t\\t\\t\\t\\t\\t\\t\\t\\t\\t\\t\\tAbout\\t\\t\\t\\t\\t\\t\\t\\t\\t\\t\\t\\t\\t\\t\\t\\n\\n\\n\\n\\t\\t\\t\\t\\t\\t\\t\\t\\t\\t\\t\\t\\t\\t\\t\\t\\tCareers\\t\\t\\t\\t\\t\\t\\t\\t\\t\\t\\t\\t\\t\\t\\t\\n\\n\\n\\n\\t\\t\\t\\t\\t\\t\\t\\t\\t\\t\\t\\t\\t\\t\\t\\t\\tPress\\t\\t\\t\\t\\t\\t\\t\\t\\t\\t\\t\\t\\t\\t\\t\\n\\n\\n\\n\\t\\t\\t\\t\\t\\t\\t\\t\\t\\t\\t\\t\\t\\t\\t\\t\\tContact\\t\\t\\t\\t\\t\\t\\t\\t\\t\\t\\t\\t\\t\\t\\t\\n\\n\\n\\n\\t\\t\\t\\t\\t\\t\\t\\t\\t\\t\\t\\t\\t\\t\\t\\t\\tTerms of Use\\t\\t\\t\\t\\t\\t\\t\\t\\t\\t\\t\\t\\t\\t\\t\\n\\n\\n\\n\\t\\t\\t\\t\\t\\t\\t\\t\\t\\t\\t\\t\\t\\t\\t\\t\\tPrivacy Policy\\t\\t\\t\\t\\t\\t\\t\\t\\t\\t\\t\\t\\t\\t\\t\\n\\n\\n\\n\\t\\t\\t\\t\\t\\t\\t\\t\\t\\t\\t\\t\\t\\t\\t\\t\\tDigital Services Act\\t\\t\\t\\t\\t\\t\\t\\t\\t\\t\\t\\t\\t\\t\\t\\n\\n\\n\\n\\t\\t\\t\\t\\t\\t\\t\\t\\t\\t\\t\\t\\t\\t\\t\\t\\tGlobal Sitemap\\t\\t\\t\\t\\t\\t\\t\\t\\t\\t\\t\\t\\t\\t\\t\\n\\n\\n\\n\\t\\t\\t\\t\\t\\t\\t\\t\\t\\t\\t\\t\\t\\t\\t\\t\\tLocal Sitemap\\t\\t\\t\\t\\t\\t\\t\\t\\t\\t\\t\\t\\t\\t\\t\\n\\n\\n\\n\\n\\n\\n\\n\\n\\n\\nCommunity\\n\\n\\n\\n\\t\\t\\t\\t\\t\\t\\t\\t\\t\\t\\t\\t\\t\\t\\t\\t\\tCommunity Central\\t\\t\\t\\t\\t\\t\\t\\t\\t\\t\\t\\t\\t\\t\\t\\n\\n\\n\\n\\t\\t\\t\\t\\t\\t\\t\\t\\t\\t\\t\\t\\t\\t\\t\\t\\tSupport\\t\\t\\t\\t\\t\\t\\t\\t\\t\\t\\t\\t\\t\\t\\t\\n\\n\\n\\n\\t\\t\\t\\t\\t\\t\\t\\t\\t\\t\\t\\t\\t\\t\\t\\t\\tHelp\\t\\t\\t\\t\\t\\t\\t\\t\\t\\t\\t\\t\\t\\t\\t\\n\\n\\n\\n\\nAdvertise\\n\\n\\n\\n\\t\\t\\t\\t\\t\\t\\t\\t\\t\\t\\t\\t\\t\\t\\t\\t\\tMedia Kit\\t\\t\\t\\t\\t\\t\\t\\t\\t\\t\\t\\t\\t\\t\\t\\n\\n\\n\\n\\t\\t\\t\\t\\t\\t\\t\\t\\t\\t\\t\\t\\t\\t\\t\\t\\tContact\\t\\t\\t\\t\\t\\t\\t\\t\\t\\t\\t\\t\\t\\t\\t\\n\\n\\n\\n\\n\\n\\nFandom Apps\\n\\t\\n\\t\\t\\tTake your favorite fandoms with you and never miss a beat.\\t\\n\\t\\n\\t\\n\\n\\n\\n\\n\\n\\n\\n\\n\\n\\n\\n\\n\\n\\n\\n\\n\\n\\nMinecraft Wiki is a FANDOM Games Community.\\n\\n\\n\\t\\t\\t\\t\\tView Mobile Site\\t\\t\\t\\t\\n\\n\\n\\n\\n\\n\\n\\n\\n\\n\\n\\n\\n')]"
      ]
     },
     "execution_count": 25,
     "metadata": {},
     "output_type": "execute_result"
    }
   ],
   "source": [
    "docs"
   ]
  },
  {
   "cell_type": "code",
   "execution_count": 31,
   "metadata": {},
   "outputs": [],
   "source": [
    "# split docs into chunks\n",
    "\n",
    "text_splitter = RecursiveCharacterTextSplitter(\n",
    "    chunk_size = 5000,\n",
    "    chunk_overlap = 1000,\n",
    ")\n",
    "\n",
    "document_chunks = text_splitter.split_documents(docs)"
   ]
  },
  {
   "cell_type": "code",
   "execution_count": 33,
   "metadata": {},
   "outputs": [
    {
     "name": "stderr",
     "output_type": "stream",
     "text": [
      "ERROR:chromadb.telemetry.product.posthog:Failed to send telemetry event ClientStartEvent: capture() takes 1 positional argument but 3 were given\n",
      "ERROR:chromadb.telemetry.product.posthog:Failed to send telemetry event ClientCreateCollectionEvent: capture() takes 1 positional argument but 3 were given\n"
     ]
    }
   ],
   "source": [
    "# tokenize and load the docs to the vector store (imported from langchain)\n",
    "\n",
    "vector_db = Chroma.from_documents(\n",
    "    documents = document_chunks,\n",
    "    embedding = OpenAIEmbeddings(),\n",
    ")"
   ]
  },
  {
   "cell_type": "code",
   "execution_count": 36,
   "metadata": {},
   "outputs": [],
   "source": [
    "def _get_context_retriever_chain(vector_db, llm):\n",
    "    retriever = vector_db.as_retriever()\n",
    "    prompt = ChatPromptTemplate.from_messages([\n",
    "        MessagesPlaceholder(variable_name = \"messages\"),\n",
    "        (\"user\", \"{input}\"),\n",
    "        (\"user\", \"Given the above conversation, generate a search query to look up information relevant to the conversation, focusing on the most recent messages.\")\n",
    "    ])\n",
    "    retriever_chain = create_history_aware_retriever(llm, retriever, prompt)\n",
    "    \n",
    "    return retriever_chain"
   ]
  },
  {
   "cell_type": "code",
   "execution_count": 37,
   "metadata": {},
   "outputs": [],
   "source": [
    "def get_conversation_rag_chain(llm):\n",
    "    retriever_chain = _get_context_retriever_chain(vector_db,llm)\n",
    "\n",
    "    prompt = ChatPromptTemplate.from_messages([\n",
    "        (\n",
    "            \"system\",\n",
    "            \"\"\"\n",
    "            You are a helpful assistant. You will have to answer to user's queries.\n",
    "            You will have some context to help with your answers, but they will not always be completely related or helpful.\n",
    "            You can also use your knowledge to assist answering the user's queries.\\n {context}\n",
    "            \"\"\"\n",
    "        ),\n",
    "        MessagesPlaceholder(variable_name=\"messages\"),\n",
    "        (\"user\",\"{input}\")\n",
    "    ])\n",
    "    stuff_documents_chain = create_stuff_documents_chain(llm, prompt)\n",
    "\n",
    "    return create_retrieval_chain(retriever_chain, stuff_documents_chain)"
   ]
  },
  {
   "cell_type": "code",
   "execution_count": 38,
   "metadata": {},
   "outputs": [
    {
     "name": "stderr",
     "output_type": "stream",
     "text": [
      "ERROR:chromadb.telemetry.product.posthog:Failed to send telemetry event CollectionQueryEvent: capture() takes 1 positional argument but 3 were given\n"
     ]
    },
    {
     "name": "stdout",
     "output_type": "stream",
     "text": [
      "The latest updates for Minecraft as of the information available are:\n",
      "\n",
      "- Java Edition 1.20.2, released on September 21, 2023.\n",
      "- Bedrock Edition 1.20.30, released on September 19, 2023.\n",
      "\n",
      "If you need more details about these updates or anything else, feel free to ask!"
     ]
    }
   ],
   "source": [
    "# Augmented Generation\n",
    "\n",
    "llm_stream_openai = ChatOpenAI(\n",
    "    model = \"gpt-4o\",\n",
    "    temperature = 0.3,\n",
    "    streaming = True,\n",
    ")\n",
    "\n",
    "llm_stream = llm_stream_openai\n",
    "\n",
    "messages = [\n",
    "    {\"role\": \"user\", \"content\": \"Hi\"},\n",
    "    {\"role\": \"assistant\", \"content\": \"Hi there! How can I assist you today?\"},\n",
    "    {\"role\": \"user\", \"content\": \"What is the latest update of minecraft?\"}\n",
    "]\n",
    "\n",
    "messages = [HumanMessage(content=m[\"content\"]) if m[\"role\"] == \"user\" else AIMessage(content=m[\"content\"]) for m in messages] # converting message history to format of langchain using HumanMessage and AIMessage classes\n",
    "\n",
    "conversation_rag_chain = get_conversation_rag_chain(llm_stream)\n",
    "response_message = \"*(RAG Response)*\\n\"\n",
    "for chunk in conversation_rag_chain.pick(\"answer\").stream({\"messages\": messages[:-1], \"input\": messages[-1].content}):\n",
    "    response_message += chunk\n",
    "    print(chunk, end = \"\", flush = True)\n",
    "\n",
    "messages.append({\"role\": \"assistant\", \"content\": response_message})"
   ]
  }
 ],
 "metadata": {
  "kernelspec": {
   "display_name": "venv",
   "language": "python",
   "name": "python3"
  },
  "language_info": {
   "codemirror_mode": {
    "name": "ipython",
    "version": 3
   },
   "file_extension": ".py",
   "mimetype": "text/x-python",
   "name": "python",
   "nbconvert_exporter": "python",
   "pygments_lexer": "ipython3",
   "version": "3.9.6"
  }
 },
 "nbformat": 4,
 "nbformat_minor": 2
}
